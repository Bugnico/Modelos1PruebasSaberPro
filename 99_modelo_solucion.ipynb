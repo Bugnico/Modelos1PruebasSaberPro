{
  "nbformat": 4,
  "nbformat_minor": 0,
  "metadata": {
    "colab": {
      "provenance": [],
      "authorship_tag": "ABX9TyO6qDqTEZv4oAjslEGbjfa2",
      "include_colab_link": true
    },
    "kernelspec": {
      "name": "python3",
      "display_name": "Python 3"
    },
    "language_info": {
      "name": "python"
    }
  },
  "cells": [
    {
      "cell_type": "markdown",
      "metadata": {
        "id": "view-in-github",
        "colab_type": "text"
      },
      "source": [
        "<a href=\"https://colab.research.google.com/github/Bugnico/Modelos1PruebasSaberPro/blob/main/99_modelo_solucion.ipynb\" target=\"_parent\"><img src=\"https://colab.research.google.com/assets/colab-badge.svg\" alt=\"Open In Colab\"/></a>"
      ]
    },
    {
      "cell_type": "code",
      "execution_count": null,
      "metadata": {
        "colab": {
          "base_uri": "https://localhost:8080/"
        },
        "id": "tr6uJaQn7EyU",
        "outputId": "b4bc9310-bb40-4cda-edc4-ef185acbc732"
      },
      "outputs": [
        {
          "output_type": "stream",
          "name": "stdout",
          "text": [
            "Warning: Your Kaggle API key is readable by other users on this system! To fix this, you can run 'chmod 600 ./kaggle.json'\n",
            "usage: kaggle [-h] [-v] [-W]\n",
            "              {competitions,c,datasets,d,kernels,k,models,m,files,f,config}\n",
            "              ...\n",
            "kaggle: error: the following arguments are required: command\n"
          ]
        }
      ],
      "source": [
        "import os\n",
        "os.environ['KAGGLE_CONFIG_DIR'] = '.'\n",
        "!kaggle\n",
        "!chmod 600 ./kaggle.json\n"
      ]
    },
    {
      "cell_type": "code",
      "source": [
        "!kaggle competitions download -c udea-ai-4-eng-20251-pruebas-saber-pro-colombia"
      ],
      "metadata": {
        "id": "Ph-whb4r-R65",
        "colab": {
          "base_uri": "https://localhost:8080/"
        },
        "outputId": "66bc9abe-fee3-44c5-b621-c9044b9d8259"
      },
      "execution_count": null,
      "outputs": [
        {
          "output_type": "stream",
          "name": "stdout",
          "text": [
            "Downloading udea-ai-4-eng-20251-pruebas-saber-pro-colombia.zip to /content\n",
            "\r  0% 0.00/29.9M [00:00<?, ?B/s]\n",
            "\r100% 29.9M/29.9M [00:00<00:00, 626MB/s]\n"
          ]
        }
      ]
    },
    {
      "cell_type": "code",
      "source": [
        "!unzip udea-ai-4-eng-20251-pruebas-saber-pro-colombia.zip"
      ],
      "metadata": {
        "colab": {
          "base_uri": "https://localhost:8080/"
        },
        "id": "YJgsFI5m-4R-",
        "outputId": "c8ca97cb-06de-4ffa-d360-33369cf10f54"
      },
      "execution_count": null,
      "outputs": [
        {
          "output_type": "stream",
          "name": "stdout",
          "text": [
            "Archive:  udea-ai-4-eng-20251-pruebas-saber-pro-colombia.zip\n",
            "  inflating: submission_example.csv  \n",
            "  inflating: test.csv                \n",
            "  inflating: train.csv               \n"
          ]
        }
      ]
    },
    {
      "cell_type": "code",
      "source": [],
      "metadata": {
        "id": "N5bwqLpq-9kX"
      },
      "execution_count": null,
      "outputs": []
    },
    {
      "cell_type": "code",
      "source": [
        "\n",
        "\n",
        "import pandas as pd\n",
        "import numpy as np\n",
        "import seaborn as sns\n",
        "from sklearn.metrics import accuracy_score\n",
        "from sklearn.model_selection import train_test_split\n",
        "from matplotlib import pyplot as plt\n",
        "%matplotlib inline"
      ],
      "metadata": {
        "id": "QuE2fRMv_KXC"
      },
      "execution_count": null,
      "outputs": []
    },
    {
      "cell_type": "code",
      "source": [
        "\n",
        "\n",
        "dtr = pd.read_csv(\"train.csv\")  # Dataset de entrenamiento (con RENDIMIENTO_GLOBAL)\n",
        "dts = pd.read_csv(\"test.csv\")   # Dataset de test (sin RENDIMIENTO_GLOBAL)\n",
        "\n",
        "submission_example = pd.read_csv('submission_example.csv')\n",
        "submission_example"
      ],
      "metadata": {
        "colab": {
          "base_uri": "https://localhost:8080/",
          "height": 424
        },
        "id": "UWCgxVfzoNoR",
        "outputId": "3d15f5c8-2127-4978-a468-2dee66d91fca"
      },
      "execution_count": null,
      "outputs": [
        {
          "output_type": "execute_result",
          "data": {
            "text/plain": [
              "            ID RENDIMIENTO_GLOBAL\n",
              "0       550236         medio-bajo\n",
              "1        98545         medio-bajo\n",
              "2       499179         medio-alto\n",
              "3       782980               alto\n",
              "4       785185         medio-bajo\n",
              "...        ...                ...\n",
              "296781  496981               alto\n",
              "296782  209415         medio-alto\n",
              "296783  239074         medio-alto\n",
              "296784  963852         medio-bajo\n",
              "296785  792650               bajo\n",
              "\n",
              "[296786 rows x 2 columns]"
            ],
            "text/html": [
              "\n",
              "  <div id=\"df-4ea8fc55-d21a-4aaa-baa2-604c3ddeb05d\" class=\"colab-df-container\">\n",
              "    <div>\n",
              "<style scoped>\n",
              "    .dataframe tbody tr th:only-of-type {\n",
              "        vertical-align: middle;\n",
              "    }\n",
              "\n",
              "    .dataframe tbody tr th {\n",
              "        vertical-align: top;\n",
              "    }\n",
              "\n",
              "    .dataframe thead th {\n",
              "        text-align: right;\n",
              "    }\n",
              "</style>\n",
              "<table border=\"1\" class=\"dataframe\">\n",
              "  <thead>\n",
              "    <tr style=\"text-align: right;\">\n",
              "      <th></th>\n",
              "      <th>ID</th>\n",
              "      <th>RENDIMIENTO_GLOBAL</th>\n",
              "    </tr>\n",
              "  </thead>\n",
              "  <tbody>\n",
              "    <tr>\n",
              "      <th>0</th>\n",
              "      <td>550236</td>\n",
              "      <td>medio-bajo</td>\n",
              "    </tr>\n",
              "    <tr>\n",
              "      <th>1</th>\n",
              "      <td>98545</td>\n",
              "      <td>medio-bajo</td>\n",
              "    </tr>\n",
              "    <tr>\n",
              "      <th>2</th>\n",
              "      <td>499179</td>\n",
              "      <td>medio-alto</td>\n",
              "    </tr>\n",
              "    <tr>\n",
              "      <th>3</th>\n",
              "      <td>782980</td>\n",
              "      <td>alto</td>\n",
              "    </tr>\n",
              "    <tr>\n",
              "      <th>4</th>\n",
              "      <td>785185</td>\n",
              "      <td>medio-bajo</td>\n",
              "    </tr>\n",
              "    <tr>\n",
              "      <th>...</th>\n",
              "      <td>...</td>\n",
              "      <td>...</td>\n",
              "    </tr>\n",
              "    <tr>\n",
              "      <th>296781</th>\n",
              "      <td>496981</td>\n",
              "      <td>alto</td>\n",
              "    </tr>\n",
              "    <tr>\n",
              "      <th>296782</th>\n",
              "      <td>209415</td>\n",
              "      <td>medio-alto</td>\n",
              "    </tr>\n",
              "    <tr>\n",
              "      <th>296783</th>\n",
              "      <td>239074</td>\n",
              "      <td>medio-alto</td>\n",
              "    </tr>\n",
              "    <tr>\n",
              "      <th>296784</th>\n",
              "      <td>963852</td>\n",
              "      <td>medio-bajo</td>\n",
              "    </tr>\n",
              "    <tr>\n",
              "      <th>296785</th>\n",
              "      <td>792650</td>\n",
              "      <td>bajo</td>\n",
              "    </tr>\n",
              "  </tbody>\n",
              "</table>\n",
              "<p>296786 rows × 2 columns</p>\n",
              "</div>\n",
              "    <div class=\"colab-df-buttons\">\n",
              "\n",
              "  <div class=\"colab-df-container\">\n",
              "    <button class=\"colab-df-convert\" onclick=\"convertToInteractive('df-4ea8fc55-d21a-4aaa-baa2-604c3ddeb05d')\"\n",
              "            title=\"Convert this dataframe to an interactive table.\"\n",
              "            style=\"display:none;\">\n",
              "\n",
              "  <svg xmlns=\"http://www.w3.org/2000/svg\" height=\"24px\" viewBox=\"0 -960 960 960\">\n",
              "    <path d=\"M120-120v-720h720v720H120Zm60-500h600v-160H180v160Zm220 220h160v-160H400v160Zm0 220h160v-160H400v160ZM180-400h160v-160H180v160Zm440 0h160v-160H620v160ZM180-180h160v-160H180v160Zm440 0h160v-160H620v160Z\"/>\n",
              "  </svg>\n",
              "    </button>\n",
              "\n",
              "  <style>\n",
              "    .colab-df-container {\n",
              "      display:flex;\n",
              "      gap: 12px;\n",
              "    }\n",
              "\n",
              "    .colab-df-convert {\n",
              "      background-color: #E8F0FE;\n",
              "      border: none;\n",
              "      border-radius: 50%;\n",
              "      cursor: pointer;\n",
              "      display: none;\n",
              "      fill: #1967D2;\n",
              "      height: 32px;\n",
              "      padding: 0 0 0 0;\n",
              "      width: 32px;\n",
              "    }\n",
              "\n",
              "    .colab-df-convert:hover {\n",
              "      background-color: #E2EBFA;\n",
              "      box-shadow: 0px 1px 2px rgba(60, 64, 67, 0.3), 0px 1px 3px 1px rgba(60, 64, 67, 0.15);\n",
              "      fill: #174EA6;\n",
              "    }\n",
              "\n",
              "    .colab-df-buttons div {\n",
              "      margin-bottom: 4px;\n",
              "    }\n",
              "\n",
              "    [theme=dark] .colab-df-convert {\n",
              "      background-color: #3B4455;\n",
              "      fill: #D2E3FC;\n",
              "    }\n",
              "\n",
              "    [theme=dark] .colab-df-convert:hover {\n",
              "      background-color: #434B5C;\n",
              "      box-shadow: 0px 1px 3px 1px rgba(0, 0, 0, 0.15);\n",
              "      filter: drop-shadow(0px 1px 2px rgba(0, 0, 0, 0.3));\n",
              "      fill: #FFFFFF;\n",
              "    }\n",
              "  </style>\n",
              "\n",
              "    <script>\n",
              "      const buttonEl =\n",
              "        document.querySelector('#df-4ea8fc55-d21a-4aaa-baa2-604c3ddeb05d button.colab-df-convert');\n",
              "      buttonEl.style.display =\n",
              "        google.colab.kernel.accessAllowed ? 'block' : 'none';\n",
              "\n",
              "      async function convertToInteractive(key) {\n",
              "        const element = document.querySelector('#df-4ea8fc55-d21a-4aaa-baa2-604c3ddeb05d');\n",
              "        const dataTable =\n",
              "          await google.colab.kernel.invokeFunction('convertToInteractive',\n",
              "                                                    [key], {});\n",
              "        if (!dataTable) return;\n",
              "\n",
              "        const docLinkHtml = 'Like what you see? Visit the ' +\n",
              "          '<a target=\"_blank\" href=https://colab.research.google.com/notebooks/data_table.ipynb>data table notebook</a>'\n",
              "          + ' to learn more about interactive tables.';\n",
              "        element.innerHTML = '';\n",
              "        dataTable['output_type'] = 'display_data';\n",
              "        await google.colab.output.renderOutput(dataTable, element);\n",
              "        const docLink = document.createElement('div');\n",
              "        docLink.innerHTML = docLinkHtml;\n",
              "        element.appendChild(docLink);\n",
              "      }\n",
              "    </script>\n",
              "  </div>\n",
              "\n",
              "\n",
              "    <div id=\"df-111186cf-7fca-47d7-b5c9-daf3879c26cf\">\n",
              "      <button class=\"colab-df-quickchart\" onclick=\"quickchart('df-111186cf-7fca-47d7-b5c9-daf3879c26cf')\"\n",
              "                title=\"Suggest charts\"\n",
              "                style=\"display:none;\">\n",
              "\n",
              "<svg xmlns=\"http://www.w3.org/2000/svg\" height=\"24px\"viewBox=\"0 0 24 24\"\n",
              "     width=\"24px\">\n",
              "    <g>\n",
              "        <path d=\"M19 3H5c-1.1 0-2 .9-2 2v14c0 1.1.9 2 2 2h14c1.1 0 2-.9 2-2V5c0-1.1-.9-2-2-2zM9 17H7v-7h2v7zm4 0h-2V7h2v10zm4 0h-2v-4h2v4z\"/>\n",
              "    </g>\n",
              "</svg>\n",
              "      </button>\n",
              "\n",
              "<style>\n",
              "  .colab-df-quickchart {\n",
              "      --bg-color: #E8F0FE;\n",
              "      --fill-color: #1967D2;\n",
              "      --hover-bg-color: #E2EBFA;\n",
              "      --hover-fill-color: #174EA6;\n",
              "      --disabled-fill-color: #AAA;\n",
              "      --disabled-bg-color: #DDD;\n",
              "  }\n",
              "\n",
              "  [theme=dark] .colab-df-quickchart {\n",
              "      --bg-color: #3B4455;\n",
              "      --fill-color: #D2E3FC;\n",
              "      --hover-bg-color: #434B5C;\n",
              "      --hover-fill-color: #FFFFFF;\n",
              "      --disabled-bg-color: #3B4455;\n",
              "      --disabled-fill-color: #666;\n",
              "  }\n",
              "\n",
              "  .colab-df-quickchart {\n",
              "    background-color: var(--bg-color);\n",
              "    border: none;\n",
              "    border-radius: 50%;\n",
              "    cursor: pointer;\n",
              "    display: none;\n",
              "    fill: var(--fill-color);\n",
              "    height: 32px;\n",
              "    padding: 0;\n",
              "    width: 32px;\n",
              "  }\n",
              "\n",
              "  .colab-df-quickchart:hover {\n",
              "    background-color: var(--hover-bg-color);\n",
              "    box-shadow: 0 1px 2px rgba(60, 64, 67, 0.3), 0 1px 3px 1px rgba(60, 64, 67, 0.15);\n",
              "    fill: var(--button-hover-fill-color);\n",
              "  }\n",
              "\n",
              "  .colab-df-quickchart-complete:disabled,\n",
              "  .colab-df-quickchart-complete:disabled:hover {\n",
              "    background-color: var(--disabled-bg-color);\n",
              "    fill: var(--disabled-fill-color);\n",
              "    box-shadow: none;\n",
              "  }\n",
              "\n",
              "  .colab-df-spinner {\n",
              "    border: 2px solid var(--fill-color);\n",
              "    border-color: transparent;\n",
              "    border-bottom-color: var(--fill-color);\n",
              "    animation:\n",
              "      spin 1s steps(1) infinite;\n",
              "  }\n",
              "\n",
              "  @keyframes spin {\n",
              "    0% {\n",
              "      border-color: transparent;\n",
              "      border-bottom-color: var(--fill-color);\n",
              "      border-left-color: var(--fill-color);\n",
              "    }\n",
              "    20% {\n",
              "      border-color: transparent;\n",
              "      border-left-color: var(--fill-color);\n",
              "      border-top-color: var(--fill-color);\n",
              "    }\n",
              "    30% {\n",
              "      border-color: transparent;\n",
              "      border-left-color: var(--fill-color);\n",
              "      border-top-color: var(--fill-color);\n",
              "      border-right-color: var(--fill-color);\n",
              "    }\n",
              "    40% {\n",
              "      border-color: transparent;\n",
              "      border-right-color: var(--fill-color);\n",
              "      border-top-color: var(--fill-color);\n",
              "    }\n",
              "    60% {\n",
              "      border-color: transparent;\n",
              "      border-right-color: var(--fill-color);\n",
              "    }\n",
              "    80% {\n",
              "      border-color: transparent;\n",
              "      border-right-color: var(--fill-color);\n",
              "      border-bottom-color: var(--fill-color);\n",
              "    }\n",
              "    90% {\n",
              "      border-color: transparent;\n",
              "      border-bottom-color: var(--fill-color);\n",
              "    }\n",
              "  }\n",
              "</style>\n",
              "\n",
              "      <script>\n",
              "        async function quickchart(key) {\n",
              "          const quickchartButtonEl =\n",
              "            document.querySelector('#' + key + ' button');\n",
              "          quickchartButtonEl.disabled = true;  // To prevent multiple clicks.\n",
              "          quickchartButtonEl.classList.add('colab-df-spinner');\n",
              "          try {\n",
              "            const charts = await google.colab.kernel.invokeFunction(\n",
              "                'suggestCharts', [key], {});\n",
              "          } catch (error) {\n",
              "            console.error('Error during call to suggestCharts:', error);\n",
              "          }\n",
              "          quickchartButtonEl.classList.remove('colab-df-spinner');\n",
              "          quickchartButtonEl.classList.add('colab-df-quickchart-complete');\n",
              "        }\n",
              "        (() => {\n",
              "          let quickchartButtonEl =\n",
              "            document.querySelector('#df-111186cf-7fca-47d7-b5c9-daf3879c26cf button');\n",
              "          quickchartButtonEl.style.display =\n",
              "            google.colab.kernel.accessAllowed ? 'block' : 'none';\n",
              "        })();\n",
              "      </script>\n",
              "    </div>\n",
              "\n",
              "  <div id=\"id_49ca84c1-c3d6-4a99-909c-e94290698700\">\n",
              "    <style>\n",
              "      .colab-df-generate {\n",
              "        background-color: #E8F0FE;\n",
              "        border: none;\n",
              "        border-radius: 50%;\n",
              "        cursor: pointer;\n",
              "        display: none;\n",
              "        fill: #1967D2;\n",
              "        height: 32px;\n",
              "        padding: 0 0 0 0;\n",
              "        width: 32px;\n",
              "      }\n",
              "\n",
              "      .colab-df-generate:hover {\n",
              "        background-color: #E2EBFA;\n",
              "        box-shadow: 0px 1px 2px rgba(60, 64, 67, 0.3), 0px 1px 3px 1px rgba(60, 64, 67, 0.15);\n",
              "        fill: #174EA6;\n",
              "      }\n",
              "\n",
              "      [theme=dark] .colab-df-generate {\n",
              "        background-color: #3B4455;\n",
              "        fill: #D2E3FC;\n",
              "      }\n",
              "\n",
              "      [theme=dark] .colab-df-generate:hover {\n",
              "        background-color: #434B5C;\n",
              "        box-shadow: 0px 1px 3px 1px rgba(0, 0, 0, 0.15);\n",
              "        filter: drop-shadow(0px 1px 2px rgba(0, 0, 0, 0.3));\n",
              "        fill: #FFFFFF;\n",
              "      }\n",
              "    </style>\n",
              "    <button class=\"colab-df-generate\" onclick=\"generateWithVariable('submission_example')\"\n",
              "            title=\"Generate code using this dataframe.\"\n",
              "            style=\"display:none;\">\n",
              "\n",
              "  <svg xmlns=\"http://www.w3.org/2000/svg\" height=\"24px\"viewBox=\"0 0 24 24\"\n",
              "       width=\"24px\">\n",
              "    <path d=\"M7,19H8.4L18.45,9,17,7.55,7,17.6ZM5,21V16.75L18.45,3.32a2,2,0,0,1,2.83,0l1.4,1.43a1.91,1.91,0,0,1,.58,1.4,1.91,1.91,0,0,1-.58,1.4L9.25,21ZM18.45,9,17,7.55Zm-12,3A5.31,5.31,0,0,0,4.9,8.1,5.31,5.31,0,0,0,1,6.5,5.31,5.31,0,0,0,4.9,4.9,5.31,5.31,0,0,0,6.5,1,5.31,5.31,0,0,0,8.1,4.9,5.31,5.31,0,0,0,12,6.5,5.46,5.46,0,0,0,6.5,12Z\"/>\n",
              "  </svg>\n",
              "    </button>\n",
              "    <script>\n",
              "      (() => {\n",
              "      const buttonEl =\n",
              "        document.querySelector('#id_49ca84c1-c3d6-4a99-909c-e94290698700 button.colab-df-generate');\n",
              "      buttonEl.style.display =\n",
              "        google.colab.kernel.accessAllowed ? 'block' : 'none';\n",
              "\n",
              "      buttonEl.onclick = () => {\n",
              "        google.colab.notebook.generateWithVariable('submission_example');\n",
              "      }\n",
              "      })();\n",
              "    </script>\n",
              "  </div>\n",
              "\n",
              "    </div>\n",
              "  </div>\n"
            ],
            "application/vnd.google.colaboratory.intrinsic+json": {
              "type": "dataframe",
              "variable_name": "submission_example"
            }
          },
          "metadata": {},
          "execution_count": 19
        }
      ]
    },
    {
      "cell_type": "code",
      "source": [
        "def categorize_program(programa):\n",
        "    # Verificamos cada categoría en orden\n",
        "    if programa.lower().startswith('inge') or programa.lower().startswith('bioingenier'):\n",
        "        return 'INGENIERIA'\n",
        "    elif programa.lower().startswith('derec') or programa.lower().startswith('jurisprudencia'):\n",
        "        return 'DERECHO'\n",
        "    elif programa.lower().startswith('educ') or programa.lower().startswith('pedag') or programa.lower().startswith('deporte') or programa.lower().startswith('español'):\n",
        "        return 'EDUCACION'\n",
        "    elif programa.lower().startswith('medic') or programa.lower().startswith('odont') or programa.lower().startswith('enferme') or programa.lower().startswith('psic') or programa.lower().startswith('instrumentacion') or programa.lower().startswith('nutrici') or programa.lower().startswith('terap'):\n",
        "        return 'SALUD'\n",
        "    elif programa.lower().startswith('adminis') or programa.lower().startswith('negoc') or programa.lower().startswith('banca') or programa.lower().startswith('comercio') or programa.lower().startswith('mercade'):\n",
        "        return 'ADMINISTRACION'\n",
        "    elif programa.lower().startswith('antropolo') or programa.lower().startswith('estudios') or programa.lower().startswith('filolo') or programa.lower().startswith('filoso') or programa.lower().startswith('sociolog') or programa.lower().startswith('teolog') or programa.lower().startswith('historia') or programa.lower().startswith('trabajo') or programa.lower().startswith('traduccion'):\n",
        "        return 'HUMANAS'\n",
        "    elif programa.lower().startswith('arte') or programa.lower().startswith('cine') or programa.lower().startswith('foto') or programa.lower().startswith('musica') or programa.lower().startswith('animaci') or programa.lower().startswith('bellas') or programa.lower().startswith('danza'):\n",
        "        return 'ARTES'\n",
        "    elif programa.lower().startswith('astronomia') or programa.lower().startswith('bacteriologia') or programa.lower().startswith('biolog') or programa.lower().startswith('ciencia') or programa.lower().startswith('agronom') or programa.lower().startswith('arqueologia') or programa.lower().startswith('geo') or programa.lower().startswith('zootecnia') or programa.lower().startswith('teolog'):\n",
        "        return 'CIENCIAS'\n",
        "    elif programa.lower().startswith('comunicaci') or programa.lower().startswith('direccion') or programa.lower().startswith('marketing') or programa.lower().startswith('periodismo') or programa.lower().startswith('publicidad'):\n",
        "        return 'COMUNICACIONES'\n",
        "    elif programa.lower().startswith('construcc'):\n",
        "        return 'CONSTRUCCIONES'\n",
        "    elif programa.lower().startswith('contadur') or programa.lower().startswith('econom') or programa.lower().startswith('finanz') or programa.lower().startswith('relaciones'):\n",
        "        return 'ECONOMIA'\n",
        "    elif programa.lower().startswith('dise') or programa.lower().startswith('diseño') :\n",
        "        return 'DISEÑO'\n",
        "    elif programa.lower().startswith('fisica') or programa.lower().startswith('geografia') or programa.lower().startswith('matem') or programa.lower().startswith('microbiolo') or programa.lower().startswith('quimica') or programa.lower().startswith('ecologia') or programa.lower().startswith('estad') or programa.lower().startswith('pedag') or programa.lower().startswith('bioquimica'):\n",
        "        return 'EXACTAS'\n",
        "    elif programa.lower().startswith('licenciatura') or programa.lower().startswith('estudios'):\n",
        "        return 'LICENCIATURAS'\n",
        "    elif programa.lower().startswith('profesional'):\n",
        "        return 'PROFESIONAL'\n",
        "    elif programa.lower().startswith('gerencia') or programa.lower().startswith('gesti') :\n",
        "        return 'GESTION'\n",
        "    else:\n",
        "        return 'OTROS'\n",
        "\n",
        "def categorize_departament(departament):\n",
        "      if departament.lower().startswith('atlantico') or departament.lower().startswith('bolivar') or departament.lower().startswith('cordoba') or departament.lower().startswith('cesar') or departament.lower().startswith('la guajira') or departament.lower().startswith('magdalena') or departament.lower().startswith('sucre') or departament.lower().startswith('san andres'):\n",
        "        return 'CARIBE'\n",
        "      elif departament.lower().startswith('antioquia') or departament.lower().startswith('bogota') or departament.lower().startswith('boyaca') or departament.lower().startswith('cundinamarca') or departament.lower().startswith('risaralda') or departament.lower().startswith('tolima') or departament.lower().startswith('caldas') or departament.lower().startswith('cauca') or departament.lower().startswith('huila') or departament.lower().startswith('huila') or departament.lower().startswith('norte santander') or departament.lower().startswith('quindio') or departament.lower().startswith('santander'):\n",
        "        return 'ANDINA'\n",
        "      elif departament.lower().startswith('choco') or departament.lower().startswith('nariño') or departament.lower().startswith('valle'):\n",
        "        return 'PACIFICA'\n",
        "      elif departament.lower().startswith('arauca') or departament.lower().startswith('casanare') or departament.lower().startswith('meta'):\n",
        "        return 'ORINOQUIA'\n",
        "      elif departament.lower().startswith('amazonas') or departament.lower().startswith('caqueta') or departament.lower().startswith('guaviare') or departament.lower().startswith('vaupes') or departament.lower().startswith('putumayo'):\n",
        "        return 'AMAZONICA'\n",
        "      else:\n",
        "        return 'OTRO_DEPARTAMENTO'\n",
        "\n",
        "def limpiar_y_preprocesar_datos(d):\n",
        "\n",
        "    d = d.drop(['FAMI_TIENEINTERNET.1', 'ESTU_PRIVADO_LIBERTAD'], axis=1)\n",
        "\n",
        "    mapeo = {'Si': 1, 'S': 1, 'No': 0, 'N': 0}\n",
        "    target_columns = ['FAMI_TIENEINTERNET', 'FAMI_TIENELAVADORA', 'FAMI_TIENEAUTOMOVIL', 'FAMI_TIENECOMPUTADOR','ESTU_PAGOMATRICULAPROPIO']\n",
        "    for columna in target_columns:\n",
        "        d[columna] = d[columna].map(mapeo)\n",
        "\n",
        "    for columna in target_columns:\n",
        "        proporciones = d[columna].value_counts(normalize=True)\n",
        "        prop_1 = proporciones.get(1, 0)\n",
        "        prop_0 = proporciones.get(0, 0)\n",
        "        d[columna].fillna(np.random.choice([0, 1], p=[prop_0, prop_1]), inplace=True)\n",
        "    d['ESTU_PAGOMATRICULAPROPIO'].fillna(0, inplace=True)\n",
        "\n",
        "    mapeo_estrato = {'Sin Estrato': 0, 'Estrato 1': 1, 'Estrato 2': 2, 'Estrato 3': 3, 'Estrato 4': 4, 'Estrato 5': 5, 'Estrato 6': 6}\n",
        "    d['FAMI_ESTRATOVIVIENDA'] = d['FAMI_ESTRATOVIVIENDA'].map(mapeo_estrato)\n",
        "    media_estrato = d['FAMI_ESTRATOVIVIENDA'].mean()\n",
        "    d['FAMI_ESTRATOVIVIENDA'].fillna(media_estrato, inplace=True)\n",
        "    d['FAMI_ESTRATOVIVIENDA'] = d['FAMI_ESTRATOVIVIENDA'].astype(int)\n",
        "\n",
        "    mapeo_valores_matricula = {'Menos de 500 mil': 0, 'Entre 500 mil y menos de 1 millón': 1, 'Entre 1 millón y menos de 2.5 millones': 2,\n",
        "                                'Entre 2.5 millones y menos de 4 millones': 3, 'Entre 4 millones y menos de 5.5 millones': 4,\n",
        "                                'Entre 5.5 millones y menos de 7 millones': 5, 'Más de 7 millones': 6, 'No pagó matrícula': 7}\n",
        "\n",
        "    mapeo_valores_horas_trabajo = {'0': 0, 'Menos de 10 horas': 1, 'Entre 11 y 20 horas': 2, 'Entre 21 y 30 horas': 3, 'Más de 30 horas': 4}\n",
        "\n",
        "    d['ESTU_VALORMATRICULAUNIVERSIDAD'] = d['ESTU_VALORMATRICULAUNIVERSIDAD'].map(mapeo_valores_matricula)\n",
        "    d['ESTU_HORASSEMANATRABAJA'] = d['ESTU_HORASSEMANATRABAJA'].map(mapeo_valores_horas_trabajo)\n",
        "\n",
        "    media_valormatricula = d['ESTU_VALORMATRICULAUNIVERSIDAD'].mean()\n",
        "    d['ESTU_VALORMATRICULAUNIVERSIDAD'].fillna(media_valormatricula, inplace=True)\n",
        "\n",
        "    valores_horas_trabajo = d['ESTU_HORASSEMANATRABAJA'].dropna().unique()\n",
        "    num_valores_faltantes = d['ESTU_HORASSEMANATRABAJA'].isnull().sum()\n",
        "    d.loc[d['ESTU_HORASSEMANATRABAJA'].isnull(), 'ESTU_HORASSEMANATRABAJA'] = np.random.choice(valores_horas_trabajo, num_valores_faltantes)\n",
        "\n",
        "    moda_padre = d['FAMI_EDUCACIONPADRE'].mode()[0]\n",
        "    moda_madre = d['FAMI_EDUCACIONMADRE'].mode()[0]\n",
        "\n",
        "    d['FAMI_EDUCACIONPADRE'].fillna(moda_padre, inplace=True)\n",
        "    d['FAMI_EDUCACIONMADRE'].fillna(moda_madre, inplace=True)\n",
        "\n",
        "\n",
        "    d['ESTU_PRGM_ACADEMICO'] = d['ESTU_PRGM_ACADEMICO'].apply(lambda x: categorize_program(x))\n",
        "    d['ESTU_PRGM_DEPARTAMENTO'] = d['ESTU_PRGM_DEPARTAMENTO'].apply(lambda x: categorize_departament(x))\n",
        "\n",
        "    d = pd.get_dummies(d, columns=['FAMI_EDUCACIONPADRE', 'FAMI_EDUCACIONMADRE', 'ESTU_PRGM_ACADEMICO','ESTU_PRGM_DEPARTAMENTO'], prefix=['PADRE_EDUCACION', 'MADRE_EDUCACION','ESTU_PRGM_ACADEMICO','ESTU_PRGM_DEPARTAMENTO'])\n",
        "    d.replace({True: 1, False: 0}, inplace=True)\n",
        "\n",
        "    return d"
      ],
      "metadata": {
        "id": "PFIKG8T1oO8P"
      },
      "execution_count": null,
      "outputs": []
    },
    {
      "cell_type": "code",
      "source": [
        "\n",
        "lentr = len(dtr)\n",
        "dtr.shape, dts.shape\n"
      ],
      "metadata": {
        "colab": {
          "base_uri": "https://localhost:8080/"
        },
        "id": "Pu-VHgR2qMn3",
        "outputId": "394a0c48-a551-4798-f9b5-416987d1735d"
      },
      "execution_count": null,
      "outputs": [
        {
          "output_type": "execute_result",
          "data": {
            "text/plain": [
              "((692500, 21), (296786, 20))"
            ]
          },
          "metadata": {},
          "execution_count": 21
        }
      ]
    },
    {
      "cell_type": "code",
      "source": [
        "source_cols = [i for i in dtr.columns if i!=\"RENDIMIENTO_GLOBAL\"]\n",
        "all_data = pd.concat((dtr[source_cols], dts[source_cols]))\n",
        "all_data.index = range(len(all_data))\n",
        "all_data = limpiar_y_preprocesar_datos(all_data)\n",
        "\n",
        "Xtrk, ytrk = all_data.iloc[:lentr].values, dtr[\"RENDIMIENTO_GLOBAL\"].values\n",
        "Xtsk  = all_data.iloc[lentr:].values\n",
        "\n",
        "print (Xtrk.shape, ytrk.shape)\n",
        "print (Xtsk.shape)"
      ],
      "metadata": {
        "id": "BoilSsxxoX6V"
      },
      "execution_count": null,
      "outputs": []
    },
    {
      "cell_type": "code",
      "source": [
        "\n",
        "\n",
        "n = int(len(Xtrk)*0.5)\n",
        "n"
      ],
      "metadata": {
        "colab": {
          "base_uri": "https://localhost:8080/"
        },
        "id": "9dE-6au3oboO",
        "outputId": "8511ebf4-05ba-4324-e36f-60ed761bc23e"
      },
      "execution_count": null,
      "outputs": [
        {
          "output_type": "execute_result",
          "data": {
            "text/plain": [
              "346250"
            ]
          },
          "metadata": {},
          "execution_count": 23
        }
      ]
    },
    {
      "cell_type": "code",
      "source": [
        "\n",
        "idxs = np.random.permutation(len(Xtrk))\n",
        "idxs_trm = idxs[:n]\n",
        "idxs_tsm = idxs[n:]\n",
        "\n",
        "Xtrm = Xtrk[idxs_trm]\n",
        "ytrm = ytrk[idxs_trm]\n",
        "\n",
        "Xtsm = Xtrk[idxs_tsm]\n",
        "ytsm = ytrk[idxs_tsm]"
      ],
      "metadata": {
        "id": "twWa73IhodSW"
      },
      "execution_count": null,
      "outputs": []
    },
    {
      "cell_type": "code",
      "source": [
        "!pip install CatBoost"
      ],
      "metadata": {
        "colab": {
          "base_uri": "https://localhost:8080/"
        },
        "id": "-JUmN-8c07eE",
        "outputId": "d5184c1c-5358-42d5-c53d-ee5544ef00d8"
      },
      "execution_count": null,
      "outputs": [
        {
          "output_type": "stream",
          "name": "stdout",
          "text": [
            "Collecting CatBoost\n",
            "  Downloading catboost-1.2.8-cp311-cp311-manylinux2014_x86_64.whl.metadata (1.2 kB)\n",
            "Requirement already satisfied: graphviz in /usr/local/lib/python3.11/dist-packages (from CatBoost) (0.20.3)\n",
            "Requirement already satisfied: matplotlib in /usr/local/lib/python3.11/dist-packages (from CatBoost) (3.10.0)\n",
            "Requirement already satisfied: numpy<3.0,>=1.16.0 in /usr/local/lib/python3.11/dist-packages (from CatBoost) (2.0.2)\n",
            "Requirement already satisfied: pandas>=0.24 in /usr/local/lib/python3.11/dist-packages (from CatBoost) (2.2.2)\n",
            "Requirement already satisfied: scipy in /usr/local/lib/python3.11/dist-packages (from CatBoost) (1.15.3)\n",
            "Requirement already satisfied: plotly in /usr/local/lib/python3.11/dist-packages (from CatBoost) (5.24.1)\n",
            "Requirement already satisfied: six in /usr/local/lib/python3.11/dist-packages (from CatBoost) (1.17.0)\n",
            "Requirement already satisfied: python-dateutil>=2.8.2 in /usr/local/lib/python3.11/dist-packages (from pandas>=0.24->CatBoost) (2.9.0.post0)\n",
            "Requirement already satisfied: pytz>=2020.1 in /usr/local/lib/python3.11/dist-packages (from pandas>=0.24->CatBoost) (2025.2)\n",
            "Requirement already satisfied: tzdata>=2022.7 in /usr/local/lib/python3.11/dist-packages (from pandas>=0.24->CatBoost) (2025.2)\n",
            "Requirement already satisfied: contourpy>=1.0.1 in /usr/local/lib/python3.11/dist-packages (from matplotlib->CatBoost) (1.3.2)\n",
            "Requirement already satisfied: cycler>=0.10 in /usr/local/lib/python3.11/dist-packages (from matplotlib->CatBoost) (0.12.1)\n",
            "Requirement already satisfied: fonttools>=4.22.0 in /usr/local/lib/python3.11/dist-packages (from matplotlib->CatBoost) (4.58.1)\n",
            "Requirement already satisfied: kiwisolver>=1.3.1 in /usr/local/lib/python3.11/dist-packages (from matplotlib->CatBoost) (1.4.8)\n",
            "Requirement already satisfied: packaging>=20.0 in /usr/local/lib/python3.11/dist-packages (from matplotlib->CatBoost) (24.2)\n",
            "Requirement already satisfied: pillow>=8 in /usr/local/lib/python3.11/dist-packages (from matplotlib->CatBoost) (11.2.1)\n",
            "Requirement already satisfied: pyparsing>=2.3.1 in /usr/local/lib/python3.11/dist-packages (from matplotlib->CatBoost) (3.2.3)\n",
            "Requirement already satisfied: tenacity>=6.2.0 in /usr/local/lib/python3.11/dist-packages (from plotly->CatBoost) (9.1.2)\n",
            "Downloading catboost-1.2.8-cp311-cp311-manylinux2014_x86_64.whl (99.2 MB)\n",
            "\u001b[2K   \u001b[90m━━━━━━━━━━━━━━━━━━━━━━━━━━━━━━━━━━━━━━━━\u001b[0m \u001b[32m99.2/99.2 MB\u001b[0m \u001b[31m6.4 MB/s\u001b[0m eta \u001b[36m0:00:00\u001b[0m\n",
            "\u001b[?25hInstalling collected packages: CatBoost\n",
            "Successfully installed CatBoost-1.2.8\n"
          ]
        }
      ]
    },
    {
      "cell_type": "code",
      "source": [
        "from catboost import CatBoostClassifier\n",
        "from sklearn.metrics import classification_report, accuracy_score\n",
        "\n",
        "cat_clf = CatBoostClassifier(\n",
        "    iterations=700,                # Número de árboles, puedes ajustar si es lento\n",
        "    learning_rate=0.03,            # Más bajo, mejora generalización\n",
        "    depth=7,                       # Similar a LightGBM, evita overfitting\n",
        "    l2_leaf_reg=5,                 # Regularización L2\n",
        "    random_strength=1,            # Regularización para splits aleatorios\n",
        "    bagging_temperature=0.8,       # Controla aleatoriedad del bagging\n",
        "    border_count=128,              # Puntos de división para variables numéricas\n",
        "    loss_function='MultiClass',    # Clasificación multiclase\n",
        "    eval_metric='Accuracy',\n",
        "    random_seed=42,\n",
        "    verbose=100\n",
        ")\n",
        "\n",
        "cat_clf.fit(Xtrm, ytrm, eval_set=(Xtsm, ytsm), early_stopping_rounds=50)\n",
        "\n",
        "ypred = cat_clf.predict(Xtsm)\n",
        "\n",
        "print(\"Accuracy:\", accuracy_score(ytsm, ypred))\n",
        "print(\"\\nReporte de clasificación:\\n\", classification_report(ytsm, ypred))\n"
      ],
      "metadata": {
        "colab": {
          "base_uri": "https://localhost:8080/"
        },
        "id": "VKIdxvcK05mh",
        "outputId": "2df83b58-a003-4d52-93b2-1cf88e6a32a1"
      },
      "execution_count": null,
      "outputs": [
        {
          "output_type": "stream",
          "name": "stdout",
          "text": [
            "0:\tlearn: 0.3708505\ttest: 0.3702412\tbest: 0.3702412 (0)\ttotal: 517ms\tremaining: 6m 1s\n",
            "100:\tlearn: 0.4059581\ttest: 0.4033097\tbest: 0.4033097 (100)\ttotal: 32.4s\tremaining: 3m 12s\n",
            "200:\tlearn: 0.4137444\ttest: 0.4094181\tbest: 0.4094181 (200)\ttotal: 1m\tremaining: 2m 30s\n",
            "300:\tlearn: 0.4178426\ttest: 0.4129097\tbest: 0.4129097 (300)\ttotal: 1m 28s\tremaining: 1m 57s\n",
            "400:\tlearn: 0.4209126\ttest: 0.4143827\tbest: 0.4144231 (397)\ttotal: 1m 56s\tremaining: 1m 26s\n",
            "500:\tlearn: 0.4236708\ttest: 0.4159018\tbest: 0.4159942 (496)\ttotal: 2m 23s\tremaining: 57.1s\n",
            "600:\tlearn: 0.4260794\ttest: 0.4167047\tbest: 0.4167278 (594)\ttotal: 2m 51s\tremaining: 28.2s\n",
            "699:\tlearn: 0.4284621\ttest: 0.4171408\tbest: 0.4171552 (698)\ttotal: 3m 20s\tremaining: 0us\n",
            "\n",
            "bestTest = 0.4171552347\n",
            "bestIteration = 698\n",
            "\n",
            "Shrink model to first 699 iterations.\n",
            "Accuracy: 0.4171552346570397\n",
            "\n",
            "Reporte de clasificación:\n",
            "               precision    recall  f1-score   support\n",
            "\n",
            "        alto       0.52      0.62      0.56     87677\n",
            "        bajo       0.43      0.57      0.49     86502\n",
            "  medio-alto       0.32      0.24      0.27     85782\n",
            "  medio-bajo       0.33      0.24      0.28     86289\n",
            "\n",
            "    accuracy                           0.42    346250\n",
            "   macro avg       0.40      0.42      0.40    346250\n",
            "weighted avg       0.40      0.42      0.40    346250\n",
            "\n"
          ]
        }
      ]
    },
    {
      "cell_type": "code",
      "source": [
        "# Entrenamiento del modelo\n",
        "cat_clf.fit(Xtrm, ytrm, eval_set=(Xtsm, ytsm), early_stopping_rounds=50)\n",
        "\n",
        "# Predicción sobre test\n",
        "ypred_test = cat_clf.predict(Xtsk)\n"
      ],
      "metadata": {
        "colab": {
          "base_uri": "https://localhost:8080/"
        },
        "id": "RtxLuYvx2KR7",
        "outputId": "ba669a2a-7812-44c8-9893-c4022789d3bb"
      },
      "execution_count": null,
      "outputs": [
        {
          "output_type": "stream",
          "name": "stdout",
          "text": [
            "0:\tlearn: 0.3708505\ttest: 0.3702412\tbest: 0.3702412 (0)\ttotal: 385ms\tremaining: 4m 29s\n",
            "100:\tlearn: 0.4059581\ttest: 0.4033097\tbest: 0.4033097 (100)\ttotal: 30.2s\tremaining: 2m 59s\n",
            "200:\tlearn: 0.4137444\ttest: 0.4094181\tbest: 0.4094181 (200)\ttotal: 58.3s\tremaining: 2m 24s\n",
            "300:\tlearn: 0.4178426\ttest: 0.4129097\tbest: 0.4129097 (300)\ttotal: 1m 26s\tremaining: 1m 54s\n",
            "400:\tlearn: 0.4209126\ttest: 0.4143827\tbest: 0.4144231 (397)\ttotal: 1m 55s\tremaining: 1m 26s\n",
            "500:\tlearn: 0.4236708\ttest: 0.4159018\tbest: 0.4159942 (496)\ttotal: 2m 23s\tremaining: 57.2s\n",
            "600:\tlearn: 0.4260794\ttest: 0.4167047\tbest: 0.4167278 (594)\ttotal: 2m 51s\tremaining: 28.2s\n",
            "699:\tlearn: 0.4284621\ttest: 0.4171408\tbest: 0.4171552 (698)\ttotal: 3m 20s\tremaining: 0us\n",
            "\n",
            "bestTest = 0.4171552347\n",
            "bestIteration = 698\n",
            "\n",
            "Shrink model to first 699 iterations.\n"
          ]
        }
      ]
    },
    {
      "cell_type": "code",
      "source": [
        "# Asegúrate que la columna sea 'ID' (en mayúsculas, según la competencia)\n",
        "submission = pd.DataFrame({'ID': dts['ID'], 'RENDIMIENTO_GLOBAL': ypred_test.ravel()})\n",
        "submission.to_csv('mi_submission_catboost.csv', index=False)\n"
      ],
      "metadata": {
        "id": "0ZDyozSK3AI-"
      },
      "execution_count": null,
      "outputs": []
    },
    {
      "cell_type": "code",
      "source": [
        "!kaggle competitions submit -c udea-ai-4-eng-20251-pruebas-saber-pro-colombia -f mi_submission_catboost.csv -m \"CatBoost baseline\"\n"
      ],
      "metadata": {
        "colab": {
          "base_uri": "https://localhost:8080/"
        },
        "id": "1mJdvIGt3D-F",
        "outputId": "350d0c6a-8e21-4f07-93eb-57145f20d5c0"
      },
      "execution_count": null,
      "outputs": [
        {
          "output_type": "stream",
          "name": "stdout",
          "text": [
            "100% 3.99M/3.99M [00:00<00:00, 9.14MB/s]\n",
            "Successfully submitted to UDEA/ai4eng 20251 - Pruebas Saber Pro Colombia"
          ]
        }
      ]
    }
  ]
}